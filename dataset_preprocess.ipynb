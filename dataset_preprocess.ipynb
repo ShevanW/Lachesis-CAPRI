{
 "cells": [
  {
   "cell_type": "code",
   "execution_count": null,
   "id": "e4e5cec3",
   "metadata": {},
   "outputs": [],
   "source": [
    "import pandas as pd\n",
    "import numpy as np"
   ]
  },
  {
   "cell_type": "code",
   "execution_count": 80,
   "id": "892c1848",
   "metadata": {},
   "outputs": [],
   "source": [
    "# Read a sheet by its name\n",
    "df_morwell_east = pd.read_excel('datasets/2024_All_sites_air_quality_hourly_avg_AIR-I-F-V-VH-O-S1-DB-M2-4-0.xlsx', sheet_name='Morwell East_10017')\n",
    "df_mooroolbark = pd.read_excel('datasets/2024_All_sites_air_quality_hourly_avg_AIR-I-F-V-VH-O-S1-DB-M2-4-0.xlsx', sheet_name='Mooroolbark_10136')\n",
    "df_altona_north = pd.read_excel('datasets/2024_All_sites_air_quality_hourly_avg_AIR-I-F-V-VH-O-S1-DB-M2-4-0.xlsx', sheet_name='Altona North_10006')\n",
    "df_dandenong = pd.read_excel('datasets/2024_All_sites_air_quality_hourly_avg_AIR-I-F-V-VH-O-S1-DB-M2-4-0.xlsx', sheet_name='Dandenong_10022')\n",
    "df_point_cook = pd.read_excel('datasets/2024_All_sites_air_quality_hourly_avg_AIR-I-F-V-VH-O-S1-DB-M2-4-0.xlsx', sheet_name='Point Cook_10005')\n",
    "df_geelong_south = pd.read_excel('datasets/2024_All_sites_air_quality_hourly_avg_AIR-I-F-V-VH-O-S1-DB-M2-4-0.xlsx', sheet_name='Geelong South_10107')\n",
    "df_traralgon = pd.read_excel('datasets/2024_All_sites_air_quality_hourly_avg_AIR-I-F-V-VH-O-S1-DB-M2-4-0.xlsx', sheet_name='Traralgon_10011')\n",
    "df_alphington = pd.read_excel('datasets/2024_All_sites_air_quality_hourly_avg_AIR-I-F-V-VH-O-S1-DB-M2-4-0.xlsx', sheet_name='Alphington_10001')\n",
    "df_melton = pd.read_excel('datasets/2024_All_sites_air_quality_hourly_avg_AIR-I-F-V-VH-O-S1-DB-M2-4-0.xlsx', sheet_name='Melton_10169')\n",
    "df_melbourne_cbd = pd.read_excel('datasets/2024_All_sites_air_quality_hourly_avg_AIR-I-F-V-VH-O-S1-DB-M2-4-0.xlsx', sheet_name='Melbourne CBD_10239')\n",
    "df_box_hill = pd.read_excel('datasets/2024_All_sites_air_quality_hourly_avg_AIR-I-F-V-VH-O-S1-DB-M2-4-0.xlsx', sheet_name='Box Hill_10042')\n",
    "df_brighton = pd.read_excel('datasets/2024_All_sites_air_quality_hourly_avg_AIR-I-F-V-VH-O-S1-DB-M2-4-0.xlsx', sheet_name='Brighton_10007')\n",
    "df_morwell_south = pd.read_excel('datasets/2024_All_sites_air_quality_hourly_avg_AIR-I-F-V-VH-O-S1-DB-M2-4-0.xlsx', sheet_name='Morwell South_10217')\n",
    "df_macleod = pd.read_excel('datasets/2024_All_sites_air_quality_hourly_avg_AIR-I-F-V-VH-O-S1-DB-M2-4-0.xlsx', sheet_name='Macleod_10377')\n",
    "df_brooklyn = pd.read_excel('datasets/2024_All_sites_air_quality_hourly_avg_AIR-I-F-V-VH-O-S1-DB-M2-4-0.xlsx', sheet_name='Brooklyn_1112')\n"
   ]
  },
  {
   "cell_type": "code",
   "execution_count": 92,
   "id": "a15569db",
   "metadata": {},
   "outputs": [
    {
     "name": "stdout",
     "output_type": "stream",
     "text": [
      "0       0.371\n",
      "1         NaN\n",
      "2       0.471\n",
      "3       0.515\n",
      "4       0.490\n",
      "        ...  \n",
      "8781      NaN\n",
      "8782      NaN\n",
      "8783      NaN\n",
      "8784      NaN\n",
      "8785      NaN\n",
      "Name: SO2, Length: 8786, dtype: float64\n"
     ]
    }
   ],
   "source": [
    "print(df_morwell_east['SO2'].abs())"
   ]
  },
  {
   "cell_type": "code",
   "execution_count": null,
   "id": "266b40f1",
   "metadata": {},
   "outputs": [],
   "source": [
    "# https://document.airnow.gov/technical-assistance-document-for-the-reporting-of-daily-air-quailty.pdf\n",
    "# 4fa9ac50f09c5dfc3a41b780793ecfff46af4148\n",
    "pollutant_columns = ['O3', 'CO', 'SBPM25', 'PM10', 'NO2', 'SO2']\n",
    "cleaned_columns = ['datetime_local'] + pollutant_columns\n",
    "\n",
    "def removeUnwantedColumns(df):\n",
    "    df_columns = []\n",
    "    for column in df.columns:\n",
    "        if column in cleaned_columns:\n",
    "            df_columns.append(column)\n",
    "    return df[df_columns]\n",
    "\n",
    "df_morwell_east_removed = removeUnwantedColumns(df_morwell_east)\n",
    "df_mooroolbark_removed = removeUnwantedColumns(df_mooroolbark)\n",
    "df_altona_north_removed = removeUnwantedColumns(df_altona_north)\n",
    "df_dandenong_removed = removeUnwantedColumns(df_dandenong)\n",
    "df_point_cook_removed = removeUnwantedColumns(df_point_cook)\n",
    "df_geelong_south_removed = removeUnwantedColumns(df_geelong_south)\n",
    "df_traralgon_removed = removeUnwantedColumns(df_traralgon)\n",
    "df_alphington_removed = removeUnwantedColumns(df_alphington)\n",
    "df_melton_removed = removeUnwantedColumns(df_melton)\n",
    "df_melbourne_cbd_removed = removeUnwantedColumns(df_melbourne_cbd)\n",
    "df_box_hill_removed = removeUnwantedColumns(df_box_hill)\n",
    "df_brighton_removed = removeUnwantedColumns(df_brighton)\n",
    "df_morwell_south_removed = removeUnwantedColumns(df_morwell_south)\n",
    "df_macleod_removed = removeUnwantedColumns(df_macleod)\n",
    "df_brooklyn_removed = removeUnwantedColumns(df_brooklyn)"
   ]
  },
  {
   "cell_type": "code",
   "execution_count": 87,
   "id": "65867f0c",
   "metadata": {},
   "outputs": [
    {
     "name": "stdout",
     "output_type": "stream",
     "text": [
      "    datetime_local        CO       SO2\n",
      "0       2024-01-01       NaN  1.175652\n",
      "1       2024-01-02       NaN -0.330826\n",
      "2       2024-01-03       NaN -0.627478\n",
      "3       2024-01-04       NaN  1.684304\n",
      "4       2024-01-05       NaN  0.184522\n",
      "..             ...       ...       ...\n",
      "362     2024-12-28  0.091750 -0.239000\n",
      "363     2024-12-29  0.083000 -0.119375\n",
      "364     2024-12-30  0.106143 -0.602714\n",
      "365     2024-12-31  0.081125 -0.534750\n",
      "366     2025-01-01       NaN       NaN\n",
      "\n",
      "[367 rows x 3 columns]\n"
     ]
    },
    {
     "name": "stderr",
     "output_type": "stream",
     "text": [
      "C:\\Users\\micha\\AppData\\Local\\Temp\\ipykernel_9860\\2499706043.py:2: SettingWithCopyWarning: \n",
      "A value is trying to be set on a copy of a slice from a DataFrame.\n",
      "Try using .loc[row_indexer,col_indexer] = value instead\n",
      "\n",
      "See the caveats in the documentation: https://pandas.pydata.org/pandas-docs/stable/user_guide/indexing.html#returning-a-view-versus-a-copy\n",
      "  df_morwell_east_removed['datetime_local'] = pd.to_datetime(df_morwell_east_removed['datetime_local'])\n",
      "C:\\Users\\micha\\AppData\\Local\\Temp\\ipykernel_9860\\2499706043.py:8: FutureWarning: 'H' is deprecated and will be removed in a future version, please use 'h' instead.\n",
      "  grouped = df_morwell_east_removed.resample('24H').mean()\n"
     ]
    }
   ],
   "source": [
    "# Ensure datetime_local is a datetime type\n",
    "df_morwell_east_removed['datetime_local'] = pd.to_datetime(df_morwell_east_removed['datetime_local'])\n",
    "\n",
    "# Set datetime_local as index\n",
    "df_morwell_east_removed = df_morwell_east_removed.set_index('datetime_local')\n",
    "\n",
    "# Select only numeric columns for aggregation\n",
    "grouped = df_morwell_east_removed.resample('24H').mean()\n",
    "\n",
    "# Reset index if needed\n",
    "grouped = grouped.reset_index()\n",
    "\n",
    "print(grouped)"
   ]
  }
 ],
 "metadata": {
  "kernelspec": {
   "display_name": "base",
   "language": "python",
   "name": "python3"
  },
  "language_info": {
   "codemirror_mode": {
    "name": "ipython",
    "version": 3
   },
   "file_extension": ".py",
   "mimetype": "text/x-python",
   "name": "python",
   "nbconvert_exporter": "python",
   "pygments_lexer": "ipython3",
   "version": "3.12.4"
  }
 },
 "nbformat": 4,
 "nbformat_minor": 5
}
